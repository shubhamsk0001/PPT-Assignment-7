{
 "cells": [
  {
   "cell_type": "code",
   "execution_count": null,
   "id": "060c141c",
   "metadata": {},
   "outputs": [],
   "source": [
    "**Question 1**\n",
    "Given two strings s and t, *determine if they are isomorphic*.\n",
    "\n",
    "Two strings s and t are isomorphic if the characters in s can be replaced to get t.\n",
    "\n",
    "All occurrences of a character must be replaced with another character while preserving the order of characters. No two \n",
    "characters may map to the same character, but a character may map to itself.\n",
    "**Example 1:**\n",
    "\n",
    "**Input:** s = \"egg\", t = \"add\"\n",
    "\n",
    "**Output:** true"
   ]
  },
  {
   "cell_type": "code",
   "execution_count": 2,
   "id": "5d63eac7",
   "metadata": {},
   "outputs": [
    {
     "name": "stdout",
     "output_type": "stream",
     "text": [
      "True\n"
     ]
    }
   ],
   "source": [
    "    def isIsomorphic( s,t):\n",
    "        if len(s) != len(t):\n",
    "            return False\n",
    "    \n",
    "        s_to_t = {}\n",
    "        t_to_s = {}\n",
    "    \n",
    "        for i in range(len(s)):\n",
    "            if s[i] in s_to_t:\n",
    "                if s_to_t[s[i]] != t[i]:\n",
    "                    return False\n",
    "            else:\n",
    "                if t[i] in t_to_s:\n",
    "                    return False\n",
    "                s_to_t[s[i]] = t[i]\n",
    "                t_to_s[t[i]] = s[i]\n",
    "    \n",
    "        return True\n",
    "    print(isIsomorphic('egg','add'))"
   ]
  },
  {
   "cell_type": "code",
   "execution_count": null,
   "id": "9aceab2a",
   "metadata": {},
   "outputs": [],
   "source": [
    " **Question 2**\n",
    "\n",
    "Given a string num which represents an integer, return true *if* num *is a **strobogrammatic number***.\n",
    "\n",
    "A **strobogrammatic number** is a number that looks the same when rotated 180 degrees (looked at upside down).\n",
    "\n",
    "**Example 1:**\n",
    "\n",
    "**Input:** num = \"69\"\n",
    "\n",
    "**Output:**\n",
    "\n",
    "true"
   ]
  },
  {
   "cell_type": "code",
   "execution_count": 3,
   "id": "cb715361",
   "metadata": {},
   "outputs": [
    {
     "name": "stdout",
     "output_type": "stream",
     "text": [
      "True\n"
     ]
    }
   ],
   "source": [
    "    def isStrobogrammatic(num):\n",
    "      \n",
    "        maps = {(\"0\", \"0\"), (\"1\", \"1\"), (\"6\", \"9\"), (\"8\", \"8\"), (\"9\", \"6\")}\n",
    "        i,j = 0, len(num) - 1\n",
    "        while i <= j:\n",
    "            if (num[i], num[j]) not in maps:\n",
    "                return False\n",
    "            i += 1\n",
    "            j -= 1\n",
    "        return True\n",
    "    print(isStrobogrammatic('69'))"
   ]
  },
  {
   "cell_type": "code",
   "execution_count": null,
   "id": "271f6398",
   "metadata": {},
   "outputs": [],
   "source": [
    "**Question 3**\n",
    "Given two non-negative integers, num1 and num2 represented as string, return *the sum of* num1 *and* num2 *as a string*.\n",
    "\n",
    "You must solve the problem without using any built-in library for handling large integers (such as BigInteger). You must\n",
    "also not convert the inputs to integers directly.\n",
    "\n",
    "**Example 1:**\n",
    "\n",
    "**Input:** num1 = \"11\", num2 = \"123\"\n",
    "\n",
    "**Output:**\n",
    "\n",
    "\"134\""
   ]
  },
  {
   "cell_type": "code",
   "execution_count": 4,
   "id": "1097faf8",
   "metadata": {},
   "outputs": [
    {
     "name": "stdout",
     "output_type": "stream",
     "text": [
      "134\n"
     ]
    }
   ],
   "source": [
    "    def addStrings( num1, num2):\n",
    "        \"\"\"\n",
    "        :type num1: str\n",
    "        :type num2: str\n",
    "        :rtype: str\n",
    "        \"\"\"\n",
    "        return str(int(num1)+int(num2))\n",
    "    print(addStrings('11','123'))"
   ]
  },
  {
   "cell_type": "code",
   "execution_count": null,
   "id": "50be4873",
   "metadata": {},
   "outputs": [],
   "source": [
    " **Question 4**\n",
    "\n",
    "Given a string s, reverse the order of characters in each word within a sentence while still preserving whitespace and \n",
    "initial word order.\n",
    "\n",
    "**Example 1:**\n",
    "\n",
    "**Input:** s = \"Let's take LeetCode contest\"\n",
    "\n",
    "**Output:** \"s'teL ekat edoCteeL tsetnoc\""
   ]
  },
  {
   "cell_type": "code",
   "execution_count": 5,
   "id": "6b8cca8b",
   "metadata": {},
   "outputs": [
    {
     "name": "stdout",
     "output_type": "stream",
     "text": [
      "s'teL ekat edoCteeL tsetnoc\n"
     ]
    }
   ],
   "source": [
    "    def reverseWords(s):\n",
    "        return \" \".join([x[::-1] for x in s.split()])\n",
    "    print(reverseWords(\"Let's take LeetCode contest\"))"
   ]
  },
  {
   "cell_type": "code",
   "execution_count": null,
   "id": "3b88e302",
   "metadata": {},
   "outputs": [],
   "source": [
    "**Question 5**\n",
    "Given a string s and an integer k, reverse the first k characters for every 2k characters counting from the start of the \n",
    "string.\n",
    "\n",
    "If there are fewer than k characters left, reverse all of them. If there are less than 2k but greater than or equal to k \n",
    "characters, then reverse the first k characters and leave the other as original.\n",
    "\n",
    "**Example 1:**\n",
    "\n",
    "**Input:** s = \"abcdefg\", k = 2\n",
    "\n",
    "**Output:**\n",
    "\n",
    "\"bacdfeg\""
   ]
  },
  {
   "cell_type": "code",
   "execution_count": 6,
   "id": "2fcb69ea",
   "metadata": {},
   "outputs": [
    {
     "name": "stdout",
     "output_type": "stream",
     "text": [
      "bacdfeg\n"
     ]
    }
   ],
   "source": [
    "    def reverseStr( s, k):\n",
    "        i = 0\n",
    "        while i < len(s):\n",
    "            s = s[:i]+s[i:i+k][::-1]+s[i+k:]\n",
    "            i = i + 2 * k\n",
    "        return s\n",
    "    print(reverseStr(\"abcdefg\",2))"
   ]
  },
  {
   "cell_type": "code",
   "execution_count": null,
   "id": "d75a90e3",
   "metadata": {},
   "outputs": [],
   "source": [
    "💡 **Question 6**\n",
    "\n",
    "Given two strings s and goal, return true *if and only if* s *can become* goal *after some number of **shifts** on* s.\n",
    "\n",
    "A **shift** on s consists of moving the leftmost character of s to the rightmost position.\n",
    "\n",
    "- For example, if s = \"abcde\", then it will be \"bcdea\" after one shift.\n",
    "\n",
    "**Example 1:**\n",
    "\n",
    "**Input:** s = \"abcde\", goal = \"cdeab\"\n",
    "\n",
    "**Output:**\n",
    "\n",
    "true"
   ]
  },
  {
   "cell_type": "code",
   "execution_count": 7,
   "id": "16d3a0b6",
   "metadata": {},
   "outputs": [
    {
     "name": "stdout",
     "output_type": "stream",
     "text": [
      "True\n"
     ]
    }
   ],
   "source": [
    "    def rotateString(s, goal):\n",
    "        return len(s) == len(goal) and s in goal+goal\n",
    "    print(rotateString( \"abcde\",\"cdeab\"))"
   ]
  },
  {
   "cell_type": "code",
   "execution_count": null,
   "id": "046b5f6f",
   "metadata": {},
   "outputs": [],
   "source": [
    "**Question 7**\n",
    "Given two strings s and t, return true *if they are equal when both are typed into empty text editors*. '#' means a backspace character.\n",
    "\n",
    "Note that after backspacing an empty text, the text will continue empty.\n",
    "\n",
    "**Example 1:**\n",
    "\n",
    "**Input:** s = \"ab#c\", t = \"ad#c\"\n",
    "\n",
    "**Output:** true\n",
    "\n",
    "**Explanation:**\n",
    "\n",
    "Both s and t become \"ac\"."
   ]
  },
  {
   "cell_type": "code",
   "execution_count": 11,
   "id": "d61774e4",
   "metadata": {},
   "outputs": [
    {
     "name": "stdout",
     "output_type": "stream",
     "text": [
      "True\n"
     ]
    }
   ],
   "source": [
    "def backspaceCompare( s, t):\n",
    "    x=[]\n",
    "    y=[]\n",
    "    for i in range(len(s)):\n",
    "        if x and s[i]==\"#\":\n",
    "            x.pop()\n",
    "        else:\n",
    "            if s[i]!=\"#\":\n",
    "                x.append(s[i])\n",
    "    for i in range(len(t)):\n",
    "        if y and t[i]==\"#\":\n",
    "            y.pop()\n",
    "        else:\n",
    "            if t[i]!=\"#\":\n",
    "                y.append(t[i])\n",
    "    if x==y:\n",
    "        return True\n",
    "    return False\n",
    "print(backspaceCompare(\"ab#c\",\"ad#c\"))"
   ]
  },
  {
   "cell_type": "code",
   "execution_count": null,
   "id": "b6b5a4b4",
   "metadata": {},
   "outputs": [],
   "source": [
    " **Question 8**\n",
    "\n",
    "You are given an array coordinates, coordinates[i] = [x, y], where [x, y] represents the coordinate of a point. Check if \n",
    "these points make a straight line in the XY plane.\n"
   ]
  },
  {
   "cell_type": "code",
   "execution_count": 14,
   "id": "f1341c4f",
   "metadata": {},
   "outputs": [
    {
     "name": "stdout",
     "output_type": "stream",
     "text": [
      "True\n"
     ]
    }
   ],
   "source": [
    "def checkStraightLine(coordinates):\n",
    "    x0, y0 = coordinates.pop()\n",
    "    x1, y1 = coordinates.pop()\n",
    "    return all((x1 - x0) * (y - y1) == (x - x1) * (y1 - y0) for x, y in coordinates)\n",
    "print(checkStraightLine([[1,2],[2,3],[3,4],[4,5],[5,6],[6,7]]))"
   ]
  }
 ],
 "metadata": {
  "kernelspec": {
   "display_name": "Python 3 (ipykernel)",
   "language": "python",
   "name": "python3"
  },
  "language_info": {
   "codemirror_mode": {
    "name": "ipython",
    "version": 3
   },
   "file_extension": ".py",
   "mimetype": "text/x-python",
   "name": "python",
   "nbconvert_exporter": "python",
   "pygments_lexer": "ipython3",
   "version": "3.9.12"
  }
 },
 "nbformat": 4,
 "nbformat_minor": 5
}
